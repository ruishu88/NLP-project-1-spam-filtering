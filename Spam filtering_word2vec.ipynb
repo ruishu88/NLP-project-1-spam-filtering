{
 "cells": [
  {
   "cell_type": "code",
   "execution_count": 1,
   "metadata": {
    "id": "Zr9M2uh9EzYP"
   },
   "outputs": [],
   "source": [
    "import numpy as np\n",
    "import pandas as pd\n",
    "import nltk\n",
    "from nltk.corpus import stopwords\n",
    "import string"
   ]
  },
  {
   "cell_type": "code",
   "execution_count": 2,
   "metadata": {
    "colab": {
     "base_uri": "https://localhost:8080/",
     "height": 206
    },
    "id": "cfoXh2SkK86m",
    "outputId": "94fe20b9-fadc-4387-fbf5-000e66d9919a"
   },
   "outputs": [
    {
     "data": {
      "text/html": [
       "<div>\n",
       "<style scoped>\n",
       "    .dataframe tbody tr th:only-of-type {\n",
       "        vertical-align: middle;\n",
       "    }\n",
       "\n",
       "    .dataframe tbody tr th {\n",
       "        vertical-align: top;\n",
       "    }\n",
       "\n",
       "    .dataframe thead th {\n",
       "        text-align: right;\n",
       "    }\n",
       "</style>\n",
       "<table border=\"1\" class=\"dataframe\">\n",
       "  <thead>\n",
       "    <tr style=\"text-align: right;\">\n",
       "      <th></th>\n",
       "      <th>text</th>\n",
       "      <th>spam</th>\n",
       "    </tr>\n",
       "  </thead>\n",
       "  <tbody>\n",
       "    <tr>\n",
       "      <td>0</td>\n",
       "      <td>Subject: naturally irresistible your corporate...</td>\n",
       "      <td>1</td>\n",
       "    </tr>\n",
       "    <tr>\n",
       "      <td>1</td>\n",
       "      <td>Subject: the stock trading gunslinger  fanny i...</td>\n",
       "      <td>1</td>\n",
       "    </tr>\n",
       "    <tr>\n",
       "      <td>2</td>\n",
       "      <td>Subject: unbelievable new homes made easy  im ...</td>\n",
       "      <td>1</td>\n",
       "    </tr>\n",
       "    <tr>\n",
       "      <td>3</td>\n",
       "      <td>Subject: 4 color printing special  request add...</td>\n",
       "      <td>1</td>\n",
       "    </tr>\n",
       "    <tr>\n",
       "      <td>4</td>\n",
       "      <td>Subject: do not have money , get software cds ...</td>\n",
       "      <td>1</td>\n",
       "    </tr>\n",
       "  </tbody>\n",
       "</table>\n",
       "</div>"
      ],
      "text/plain": [
       "                                                text  spam\n",
       "0  Subject: naturally irresistible your corporate...     1\n",
       "1  Subject: the stock trading gunslinger  fanny i...     1\n",
       "2  Subject: unbelievable new homes made easy  im ...     1\n",
       "3  Subject: 4 color printing special  request add...     1\n",
       "4  Subject: do not have money , get software cds ...     1"
      ]
     },
     "execution_count": 2,
     "metadata": {},
     "output_type": "execute_result"
    }
   ],
   "source": [
    "df = pd.read_csv('email.csv')\n",
    "\n",
    "df.head(5)"
   ]
  },
  {
   "cell_type": "code",
   "execution_count": 3,
   "metadata": {
    "colab": {
     "base_uri": "https://localhost:8080/"
    },
    "id": "JBRCROMELk0S",
    "outputId": "abc263a5-b729-4aad-bc34-3479fe48e590"
   },
   "outputs": [
    {
     "data": {
      "text/plain": [
       "(5728, 2)"
      ]
     },
     "execution_count": 3,
     "metadata": {},
     "output_type": "execute_result"
    }
   ],
   "source": [
    "df.shape"
   ]
  },
  {
   "cell_type": "code",
   "execution_count": 4,
   "metadata": {
    "colab": {
     "base_uri": "https://localhost:8080/"
    },
    "id": "fwSeukVGL1JK",
    "outputId": "0afc4230-bcef-4319-dc82-b3047066ec84"
   },
   "outputs": [
    {
     "data": {
      "text/plain": [
       "Index(['text', 'spam'], dtype='object')"
      ]
     },
     "execution_count": 4,
     "metadata": {},
     "output_type": "execute_result"
    }
   ],
   "source": [
    "df.columns"
   ]
  },
  {
   "cell_type": "code",
   "execution_count": 5,
   "metadata": {
    "id": "OVsJU33hMBji"
   },
   "outputs": [],
   "source": [
    "#check for duplicates\n",
    "df.drop_duplicates(inplace=True)"
   ]
  },
  {
   "cell_type": "code",
   "execution_count": 6,
   "metadata": {
    "colab": {
     "base_uri": "https://localhost:8080/"
    },
    "id": "2C6wnOSaMLe-",
    "outputId": "62b09f9d-23d9-4da6-ae89-a8b69b754676"
   },
   "outputs": [
    {
     "data": {
      "text/plain": [
       "(5695, 2)"
      ]
     },
     "execution_count": 6,
     "metadata": {},
     "output_type": "execute_result"
    }
   ],
   "source": [
    "df.shape"
   ]
  },
  {
   "cell_type": "code",
   "execution_count": 7,
   "metadata": {
    "colab": {
     "base_uri": "https://localhost:8080/"
    },
    "id": "NO7hGRqMOVef",
    "outputId": "3be8d048-d619-41f1-a637-532c099c62b4"
   },
   "outputs": [
    {
     "data": {
      "text/plain": [
       "text    0\n",
       "spam    0\n",
       "dtype: int64"
      ]
     },
     "execution_count": 7,
     "metadata": {},
     "output_type": "execute_result"
    }
   ],
   "source": [
    "#show the number of missing data\n",
    "df.isnull().sum()"
   ]
  },
  {
   "cell_type": "code",
   "execution_count": 8,
   "metadata": {
    "colab": {
     "base_uri": "https://localhost:8080/"
    },
    "id": "3cyTZFaLOvtr",
    "outputId": "82f1a5ab-79ab-4361-cbd2-cabcaa0ded8b"
   },
   "outputs": [
    {
     "name": "stderr",
     "output_type": "stream",
     "text": [
      "[nltk_data] Downloading package stopwords to\n",
      "[nltk_data]     /Users/xueweisun/nltk_data...\n",
      "[nltk_data]   Package stopwords is already up-to-date!\n"
     ]
    },
    {
     "data": {
      "text/plain": [
       "True"
      ]
     },
     "execution_count": 8,
     "metadata": {},
     "output_type": "execute_result"
    }
   ],
   "source": [
    "#download the stopwords\n",
    "nltk.download('stopwords')"
   ]
  },
  {
   "cell_type": "code",
   "execution_count": 9,
   "metadata": {
    "id": "GFbl3cdnPu-4"
   },
   "outputs": [],
   "source": [
    "def process_text(text):\n",
    "  #remove punctation\n",
    "  nopunc = [char for char in text if char not in string.punctuation]\n",
    "  nopunc = ''.join(nopunc)\n",
    "\n",
    "  #remove stopwords\n",
    "  clean_words = [word for word in nopunc.split() if word.lower() not in stopwords.words('english')]\n",
    "\n",
    "  return clean_words"
   ]
  },
  {
   "cell_type": "code",
   "execution_count": 10,
   "metadata": {
    "colab": {
     "base_uri": "https://localhost:8080/"
    },
    "id": "VFcycT8DVfp8",
    "outputId": "8ccd1973-60f9-42c4-bfb6-603be4610501"
   },
   "outputs": [
    {
     "data": {
      "text/plain": [
       "0    [Subject, naturally, irresistible, corporate, ...\n",
       "1    [Subject, stock, trading, gunslinger, fanny, m...\n",
       "2    [Subject, unbelievable, new, homes, made, easy...\n",
       "3    [Subject, 4, color, printing, special, request...\n",
       "4    [Subject, money, get, software, cds, software,...\n",
       "Name: text, dtype: object"
      ]
     },
     "execution_count": 10,
     "metadata": {},
     "output_type": "execute_result"
    }
   ],
   "source": [
    "#show the tokenization (a list of tokens also lemmas)\n",
    "df['text'].head().apply(process_text)"
   ]
  },
  {
   "cell_type": "code",
   "execution_count": 11,
   "metadata": {},
   "outputs": [],
   "source": [
    "#get the tokenization(a list of tokens also lemmas)\n",
    "text=df['text'].head().apply(process_text)\n",
    "import smart_open\n",
    "smart_open.open = smart_open.smart_open\n",
    "from gensim.models import Word2Vec\n",
    "#build the word2vec model\n",
    "model_word2vec= Word2Vec(window=10, min_count=2, size=100,workers=4)\n",
    "#build vocabulary from a sequence of sentences\n",
    "model_word2vec.build_vocab(text,progress_per=1000)"
   ]
  },
  {
   "cell_type": "code",
   "execution_count": 12,
   "metadata": {},
   "outputs": [
    {
     "data": {
      "text/plain": [
       "5"
      ]
     },
     "execution_count": 12,
     "metadata": {},
     "output_type": "execute_result"
    }
   ],
   "source": [
    "#get epochs to avoid common mistakes around the model’s ability to do multiple training passes itself\n",
    "model_word2vec.epochs"
   ]
  },
  {
   "cell_type": "code",
   "execution_count": 13,
   "metadata": {},
   "outputs": [
    {
     "data": {
      "text/plain": [
       "(109, 1485)"
      ]
     },
     "execution_count": 13,
     "metadata": {},
     "output_type": "execute_result"
    }
   ],
   "source": [
    "#train the word2vec model\n",
    "model_word2vec.train(text,total_examples=model_word2vec.corpus_count,epochs=model_word2vec.epochs)"
   ]
  },
  {
   "cell_type": "code",
   "execution_count": 14,
   "metadata": {},
   "outputs": [
    {
     "name": "stderr",
     "output_type": "stream",
     "text": [
      "/opt/anaconda3/lib/python3.7/site-packages/smart_open/smart_open_lib.py:253: UserWarning: This function is deprecated, use smart_open.open instead. See the migration notes for details: https://github.com/RaRe-Technologies/smart_open/blob/master/README.rst#migrating-to-the-new-open-function\n",
      "  'See the migration notes for details: %s' % _MIGRATION_NOTES_URL\n"
     ]
    }
   ],
   "source": [
    "#save the word2vec model \n",
    "model_word2vec.save(\"word2vec.model\")"
   ]
  },
  {
   "cell_type": "code",
   "execution_count": 15,
   "metadata": {},
   "outputs": [
    {
     "name": "stderr",
     "output_type": "stream",
     "text": [
      "/opt/anaconda3/lib/python3.7/site-packages/ipykernel_launcher.py:8: DeprecationWarning: Call to deprecated `__contains__` (Method will be removed in 4.0.0, use self.wv.__contains__() instead).\n",
      "  \n",
      "/opt/anaconda3/lib/python3.7/site-packages/ipykernel_launcher.py:9: DeprecationWarning: Call to deprecated `__getitem__` (Method will be removed in 4.0.0, use self.wv.__getitem__() instead).\n",
      "  if __name__ == '__main__':\n"
     ]
    },
    {
     "data": {
      "text/html": [
       "<div>\n",
       "<style scoped>\n",
       "    .dataframe tbody tr th:only-of-type {\n",
       "        vertical-align: middle;\n",
       "    }\n",
       "\n",
       "    .dataframe tbody tr th {\n",
       "        vertical-align: top;\n",
       "    }\n",
       "\n",
       "    .dataframe thead th {\n",
       "        text-align: right;\n",
       "    }\n",
       "</style>\n",
       "<table border=\"1\" class=\"dataframe\">\n",
       "  <thead>\n",
       "    <tr style=\"text-align: right;\">\n",
       "      <th></th>\n",
       "      <th>0</th>\n",
       "      <th>1</th>\n",
       "      <th>2</th>\n",
       "      <th>3</th>\n",
       "      <th>4</th>\n",
       "      <th>5</th>\n",
       "      <th>6</th>\n",
       "      <th>7</th>\n",
       "      <th>8</th>\n",
       "      <th>9</th>\n",
       "      <th>...</th>\n",
       "      <th>90</th>\n",
       "      <th>91</th>\n",
       "      <th>92</th>\n",
       "      <th>93</th>\n",
       "      <th>94</th>\n",
       "      <th>95</th>\n",
       "      <th>96</th>\n",
       "      <th>97</th>\n",
       "      <th>98</th>\n",
       "      <th>99</th>\n",
       "    </tr>\n",
       "  </thead>\n",
       "  <tbody>\n",
       "    <tr>\n",
       "      <td>0</td>\n",
       "      <td>-0.437484</td>\n",
       "      <td>-0.437489</td>\n",
       "      <td>0.252785</td>\n",
       "      <td>-0.015725</td>\n",
       "      <td>0.230238</td>\n",
       "      <td>0.187766</td>\n",
       "      <td>0.020453</td>\n",
       "      <td>-0.103712</td>\n",
       "      <td>0.199441</td>\n",
       "      <td>0.340459</td>\n",
       "      <td>...</td>\n",
       "      <td>0.314083</td>\n",
       "      <td>-0.345686</td>\n",
       "      <td>-0.002111</td>\n",
       "      <td>0.490596</td>\n",
       "      <td>-0.304742</td>\n",
       "      <td>-0.429651</td>\n",
       "      <td>0.364303</td>\n",
       "      <td>0.290646</td>\n",
       "      <td>-0.285389</td>\n",
       "      <td>-0.183512</td>\n",
       "    </tr>\n",
       "    <tr>\n",
       "      <td>1</td>\n",
       "      <td>-0.195305</td>\n",
       "      <td>-0.195307</td>\n",
       "      <td>0.112851</td>\n",
       "      <td>-0.007020</td>\n",
       "      <td>0.102785</td>\n",
       "      <td>0.083824</td>\n",
       "      <td>0.009131</td>\n",
       "      <td>-0.046300</td>\n",
       "      <td>0.089036</td>\n",
       "      <td>0.151991</td>\n",
       "      <td>...</td>\n",
       "      <td>0.140216</td>\n",
       "      <td>-0.154324</td>\n",
       "      <td>-0.000943</td>\n",
       "      <td>0.219016</td>\n",
       "      <td>-0.136046</td>\n",
       "      <td>-0.191808</td>\n",
       "      <td>0.162635</td>\n",
       "      <td>0.129753</td>\n",
       "      <td>-0.127406</td>\n",
       "      <td>-0.081925</td>\n",
       "    </tr>\n",
       "    <tr>\n",
       "      <td>2</td>\n",
       "      <td>-0.140620</td>\n",
       "      <td>-0.140621</td>\n",
       "      <td>0.081252</td>\n",
       "      <td>-0.005055</td>\n",
       "      <td>0.074005</td>\n",
       "      <td>0.060353</td>\n",
       "      <td>0.006574</td>\n",
       "      <td>-0.033336</td>\n",
       "      <td>0.064106</td>\n",
       "      <td>0.109433</td>\n",
       "      <td>...</td>\n",
       "      <td>0.100955</td>\n",
       "      <td>-0.111113</td>\n",
       "      <td>-0.000679</td>\n",
       "      <td>0.157692</td>\n",
       "      <td>-0.097953</td>\n",
       "      <td>-0.138102</td>\n",
       "      <td>0.117098</td>\n",
       "      <td>0.093422</td>\n",
       "      <td>-0.091732</td>\n",
       "      <td>-0.058986</td>\n",
       "    </tr>\n",
       "    <tr>\n",
       "      <td>3</td>\n",
       "      <td>-0.124995</td>\n",
       "      <td>-0.124997</td>\n",
       "      <td>0.072224</td>\n",
       "      <td>-0.004493</td>\n",
       "      <td>0.065782</td>\n",
       "      <td>0.053647</td>\n",
       "      <td>0.005844</td>\n",
       "      <td>-0.029632</td>\n",
       "      <td>0.056983</td>\n",
       "      <td>0.097274</td>\n",
       "      <td>...</td>\n",
       "      <td>0.089738</td>\n",
       "      <td>-0.098768</td>\n",
       "      <td>-0.000603</td>\n",
       "      <td>0.140170</td>\n",
       "      <td>-0.087069</td>\n",
       "      <td>-0.122757</td>\n",
       "      <td>0.104087</td>\n",
       "      <td>0.083042</td>\n",
       "      <td>-0.081540</td>\n",
       "      <td>-0.052432</td>\n",
       "    </tr>\n",
       "    <tr>\n",
       "      <td>4</td>\n",
       "      <td>-0.093747</td>\n",
       "      <td>-0.093748</td>\n",
       "      <td>0.054168</td>\n",
       "      <td>-0.003370</td>\n",
       "      <td>0.049337</td>\n",
       "      <td>0.040236</td>\n",
       "      <td>0.004383</td>\n",
       "      <td>-0.022224</td>\n",
       "      <td>0.042737</td>\n",
       "      <td>0.072956</td>\n",
       "      <td>...</td>\n",
       "      <td>0.067303</td>\n",
       "      <td>-0.074076</td>\n",
       "      <td>-0.000452</td>\n",
       "      <td>0.105128</td>\n",
       "      <td>-0.065302</td>\n",
       "      <td>-0.092068</td>\n",
       "      <td>0.078065</td>\n",
       "      <td>0.062281</td>\n",
       "      <td>-0.061155</td>\n",
       "      <td>-0.039324</td>\n",
       "    </tr>\n",
       "  </tbody>\n",
       "</table>\n",
       "<p>5 rows × 100 columns</p>\n",
       "</div>"
      ],
      "text/plain": [
       "         0         1         2         3         4         5         6   \\\n",
       "0 -0.437484 -0.437489  0.252785 -0.015725  0.230238  0.187766  0.020453   \n",
       "1 -0.195305 -0.195307  0.112851 -0.007020  0.102785  0.083824  0.009131   \n",
       "2 -0.140620 -0.140621  0.081252 -0.005055  0.074005  0.060353  0.006574   \n",
       "3 -0.124995 -0.124997  0.072224 -0.004493  0.065782  0.053647  0.005844   \n",
       "4 -0.093747 -0.093748  0.054168 -0.003370  0.049337  0.040236  0.004383   \n",
       "\n",
       "         7         8         9   ...        90        91        92        93  \\\n",
       "0 -0.103712  0.199441  0.340459  ...  0.314083 -0.345686 -0.002111  0.490596   \n",
       "1 -0.046300  0.089036  0.151991  ...  0.140216 -0.154324 -0.000943  0.219016   \n",
       "2 -0.033336  0.064106  0.109433  ...  0.100955 -0.111113 -0.000679  0.157692   \n",
       "3 -0.029632  0.056983  0.097274  ...  0.089738 -0.098768 -0.000603  0.140170   \n",
       "4 -0.022224  0.042737  0.072956  ...  0.067303 -0.074076 -0.000452  0.105128   \n",
       "\n",
       "         94        95        96        97        98        99  \n",
       "0 -0.304742 -0.429651  0.364303  0.290646 -0.285389 -0.183512  \n",
       "1 -0.136046 -0.191808  0.162635  0.129753 -0.127406 -0.081925  \n",
       "2 -0.097953 -0.138102  0.117098  0.093422 -0.091732 -0.058986  \n",
       "3 -0.087069 -0.122757  0.104087  0.083042 -0.081540 -0.052432  \n",
       "4 -0.065302 -0.092068  0.078065  0.062281 -0.061155 -0.039324  \n",
       "\n",
       "[5 rows x 100 columns]"
      ]
     },
     "execution_count": 15,
     "metadata": {},
     "output_type": "execute_result"
    }
   ],
   "source": [
    "#get the tokens of sentences\n",
    "def to_review_vector(text):\n",
    "    global word_vec\n",
    "    \n",
    "    word_vec=np.zeros((1,100))\n",
    "    \n",
    "    for word in text:\n",
    "        if word in model_word2vec:\n",
    "            word_vec+=np.array([model_word2vec[word]])\n",
    "    return pd.Series(word_vec.mean(axis=0))\n",
    "\n",
    "messages_bow2=df.text.apply(to_review_vector)\n",
    "messages_bow2.head()"
   ]
  },
  {
   "cell_type": "code",
   "execution_count": 16,
   "metadata": {},
   "outputs": [],
   "source": [
    "#split data %80 training %20 test\n",
    "from sklearn.model_selection import train_test_split\n",
    "X_train, X_test, y_train, y_test = train_test_split(messages_bow2, df['spam'],test_size=0.20, random_state=0)"
   ]
  },
  {
   "cell_type": "code",
   "execution_count": 17,
   "metadata": {},
   "outputs": [
    {
     "data": {
      "text/plain": [
       "MLPClassifier(activation='relu', alpha=0.0001, batch_size='auto', beta_1=0.9,\n",
       "              beta_2=0.999, early_stopping=False, epsilon=1e-08,\n",
       "              hidden_layer_sizes=(100,), learning_rate='constant',\n",
       "              learning_rate_init=0.001, max_iter=200, momentum=0.9,\n",
       "              n_iter_no_change=10, nesterovs_momentum=True, power_t=0.5,\n",
       "              random_state=None, shuffle=True, solver='adam', tol=0.0001,\n",
       "              validation_fraction=0.1, verbose=False, warm_start=False)"
      ]
     },
     "execution_count": 17,
     "metadata": {},
     "output_type": "execute_result"
    }
   ],
   "source": [
    "#build a neural network model and use the train data to fit the model\n",
    "from sklearn.neural_network import MLPClassifier\n",
    "model = MLPClassifier()\n",
    "model.fit(X_train,y_train)"
   ]
  },
  {
   "cell_type": "code",
   "execution_count": 18,
   "metadata": {},
   "outputs": [],
   "source": [
    "#use the model to predict the results of train data\n",
    "pred_train=dict()\n",
    "pred_train = model.predict(X_train)"
   ]
  },
  {
   "cell_type": "code",
   "execution_count": 19,
   "metadata": {},
   "outputs": [
    {
     "name": "stdout",
     "output_type": "stream",
     "text": [
      "              precision    recall  f1-score   support\n",
      "\n",
      "           0       0.76      1.00      0.86      3457\n",
      "           1       0.47      0.01      0.01      1099\n",
      "\n",
      "    accuracy                           0.76      4556\n",
      "   macro avg       0.61      0.50      0.44      4556\n",
      "weighted avg       0.69      0.76      0.66      4556\n",
      "\n",
      "Accuracy:  0.7585601404741001\n"
     ]
    }
   ],
   "source": [
    "#compare the real value and the results using the model\n",
    "from sklearn.metrics import classification_report, confusion_matrix, accuracy_score\n",
    "print(classification_report(y_train,pred_train))\n",
    "print('Accuracy: ', accuracy_score(y_train,pred_train))"
   ]
  },
  {
   "cell_type": "code",
   "execution_count": 20,
   "metadata": {},
   "outputs": [],
   "source": [
    "#use the model to predict the results of test data\n",
    "prediction = dict()\n",
    "prediction[\"NN\"] = model.predict(X_test)"
   ]
  },
  {
   "cell_type": "code",
   "execution_count": 21,
   "metadata": {},
   "outputs": [
    {
     "name": "stdout",
     "output_type": "stream",
     "text": [
      "              precision    recall  f1-score   support\n",
      "\n",
      "           0       0.76      1.00      0.87       870\n",
      "           1       1.00      0.00      0.01       269\n",
      "\n",
      "    accuracy                           0.76      1139\n",
      "   macro avg       0.88      0.50      0.44      1139\n",
      "weighted avg       0.82      0.76      0.66      1139\n",
      "\n",
      "Confusion Matrix: /n [[870   0]\n",
      " [268   1]]\n"
     ]
    }
   ],
   "source": [
    "#compare the real value and the results of test data using the model\n",
    "print(classification_report(y_test,prediction[\"NN\"]))\n",
    "accuracy_score(y_test,prediction[\"NN\"])\n",
    "\n",
    "print('Confusion Matrix: /n', confusion_matrix(y_test,prediction[\"NN\"]))"
   ]
  },
  {
   "cell_type": "code",
   "execution_count": 22,
   "metadata": {},
   "outputs": [
    {
     "name": "stdout",
     "output_type": "stream",
     "text": [
      "Accuracy using Cross Validation is : 75.9964881474978  %\n"
     ]
    }
   ],
   "source": [
    "#get accuracy using Cross Validation\n",
    "from sklearn.model_selection import KFold, cross_val_score\n",
    "kfold = KFold(n_splits=5,shuffle=True)\n",
    "print(\"Accuracy using Cross Validation is :\",np.mean(cross_val_score(model,messages_bow2,df['spam'],cv=kfold,scoring=\"accuracy\"))*100,\" %\")\n"
   ]
  }
 ],
 "metadata": {
  "colab": {
   "name": "Untitled2.ipynb",
   "provenance": []
  },
  "kernelspec": {
   "display_name": "Python 3",
   "language": "python",
   "name": "python3"
  },
  "language_info": {
   "codemirror_mode": {
    "name": "ipython",
    "version": 3
   },
   "file_extension": ".py",
   "mimetype": "text/x-python",
   "name": "python",
   "nbconvert_exporter": "python",
   "pygments_lexer": "ipython3",
   "version": "3.7.4"
  }
 },
 "nbformat": 4,
 "nbformat_minor": 1
}
