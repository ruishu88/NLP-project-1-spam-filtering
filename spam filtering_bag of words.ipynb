{
 "cells": [
  {
   "cell_type": "code",
   "execution_count": 1,
   "metadata": {
    "id": "Zr9M2uh9EzYP"
   },
   "outputs": [],
   "source": [
    "import numpy as np\n",
    "import pandas as pd\n",
    "import nltk\n",
    "from nltk.corpus import stopwords\n",
    "import string"
   ]
  },
  {
   "cell_type": "code",
   "execution_count": 2,
   "metadata": {
    "colab": {
     "base_uri": "https://localhost:8080/",
     "height": 416
    },
    "id": "cfoXh2SkK86m",
    "outputId": "df25637b-b270-4b60-9c64-3a2c6880418f"
   },
   "outputs": [
    {
     "data": {
      "text/html": [
       "<div>\n",
       "<style scoped>\n",
       "    .dataframe tbody tr th:only-of-type {\n",
       "        vertical-align: middle;\n",
       "    }\n",
       "\n",
       "    .dataframe tbody tr th {\n",
       "        vertical-align: top;\n",
       "    }\n",
       "\n",
       "    .dataframe thead th {\n",
       "        text-align: right;\n",
       "    }\n",
       "</style>\n",
       "<table border=\"1\" class=\"dataframe\">\n",
       "  <thead>\n",
       "    <tr style=\"text-align: right;\">\n",
       "      <th></th>\n",
       "      <th>text</th>\n",
       "      <th>spam</th>\n",
       "    </tr>\n",
       "  </thead>\n",
       "  <tbody>\n",
       "    <tr>\n",
       "      <td>0</td>\n",
       "      <td>Subject: naturally irresistible your corporate...</td>\n",
       "      <td>1</td>\n",
       "    </tr>\n",
       "    <tr>\n",
       "      <td>1</td>\n",
       "      <td>Subject: the stock trading gunslinger  fanny i...</td>\n",
       "      <td>1</td>\n",
       "    </tr>\n",
       "    <tr>\n",
       "      <td>2</td>\n",
       "      <td>Subject: unbelievable new homes made easy  im ...</td>\n",
       "      <td>1</td>\n",
       "    </tr>\n",
       "    <tr>\n",
       "      <td>3</td>\n",
       "      <td>Subject: 4 color printing special  request add...</td>\n",
       "      <td>1</td>\n",
       "    </tr>\n",
       "    <tr>\n",
       "      <td>4</td>\n",
       "      <td>Subject: do not have money , get software cds ...</td>\n",
       "      <td>1</td>\n",
       "    </tr>\n",
       "  </tbody>\n",
       "</table>\n",
       "</div>"
      ],
      "text/plain": [
       "                                                text  spam\n",
       "0  Subject: naturally irresistible your corporate...     1\n",
       "1  Subject: the stock trading gunslinger  fanny i...     1\n",
       "2  Subject: unbelievable new homes made easy  im ...     1\n",
       "3  Subject: 4 color printing special  request add...     1\n",
       "4  Subject: do not have money , get software cds ...     1"
      ]
     },
     "execution_count": 2,
     "metadata": {},
     "output_type": "execute_result"
    }
   ],
   "source": [
    "df = pd.read_csv('email.csv')\n",
    "\n",
    "df.head(5)"
   ]
  },
  {
   "cell_type": "code",
   "execution_count": 3,
   "metadata": {
    "id": "JBRCROMELk0S"
   },
   "outputs": [
    {
     "data": {
      "text/plain": [
       "(5728, 2)"
      ]
     },
     "execution_count": 3,
     "metadata": {},
     "output_type": "execute_result"
    }
   ],
   "source": [
    "df.shape"
   ]
  },
  {
   "cell_type": "code",
   "execution_count": 4,
   "metadata": {
    "id": "fwSeukVGL1JK"
   },
   "outputs": [
    {
     "data": {
      "text/plain": [
       "Index(['text', 'spam'], dtype='object')"
      ]
     },
     "execution_count": 4,
     "metadata": {},
     "output_type": "execute_result"
    }
   ],
   "source": [
    "df.columns"
   ]
  },
  {
   "cell_type": "code",
   "execution_count": 5,
   "metadata": {
    "id": "OVsJU33hMBji"
   },
   "outputs": [],
   "source": [
    "#check for duplicates\n",
    "df.drop_duplicates(inplace=True)"
   ]
  },
  {
   "cell_type": "code",
   "execution_count": 6,
   "metadata": {
    "id": "2C6wnOSaMLe-"
   },
   "outputs": [
    {
     "data": {
      "text/plain": [
       "(5695, 2)"
      ]
     },
     "execution_count": 6,
     "metadata": {},
     "output_type": "execute_result"
    }
   ],
   "source": [
    "df.shape"
   ]
  },
  {
   "cell_type": "code",
   "execution_count": 7,
   "metadata": {
    "id": "NO7hGRqMOVef"
   },
   "outputs": [
    {
     "data": {
      "text/plain": [
       "text    0\n",
       "spam    0\n",
       "dtype: int64"
      ]
     },
     "execution_count": 7,
     "metadata": {},
     "output_type": "execute_result"
    }
   ],
   "source": [
    "#show the number of missing data\n",
    "df.isnull().sum()"
   ]
  },
  {
   "cell_type": "code",
   "execution_count": 8,
   "metadata": {
    "id": "3cyTZFaLOvtr"
   },
   "outputs": [
    {
     "name": "stderr",
     "output_type": "stream",
     "text": [
      "[nltk_data] Downloading package stopwords to\n",
      "[nltk_data]     /Users/xueweisun/nltk_data...\n",
      "[nltk_data]   Package stopwords is already up-to-date!\n"
     ]
    },
    {
     "data": {
      "text/plain": [
       "True"
      ]
     },
     "execution_count": 8,
     "metadata": {},
     "output_type": "execute_result"
    }
   ],
   "source": [
    "#download the stopwords\n",
    "nltk.download('stopwords')"
   ]
  },
  {
   "cell_type": "code",
   "execution_count": 9,
   "metadata": {
    "id": "GFbl3cdnPu-4"
   },
   "outputs": [],
   "source": [
    "def process_text(text):\n",
    "  #remove punctation\n",
    "  nopunc = [char for char in text if char not in string.punctuation]\n",
    "  nopunc = ''.join(nopunc)\n",
    "\n",
    "  #remove stopwords\n",
    "  clean_words = [word for word in nopunc.split() if word.lower() not in stopwords.words('english')]\n",
    "\n",
    "  return clean_words"
   ]
  },
  {
   "cell_type": "code",
   "execution_count": 10,
   "metadata": {
    "id": "VFcycT8DVfp8"
   },
   "outputs": [
    {
     "data": {
      "text/plain": [
       "0    [Subject, naturally, irresistible, corporate, ...\n",
       "1    [Subject, stock, trading, gunslinger, fanny, m...\n",
       "2    [Subject, unbelievable, new, homes, made, easy...\n",
       "3    [Subject, 4, color, printing, special, request...\n",
       "4    [Subject, money, get, software, cds, software,...\n",
       "Name: text, dtype: object"
      ]
     },
     "execution_count": 10,
     "metadata": {},
     "output_type": "execute_result"
    }
   ],
   "source": [
    "#show the tokenization (a list of tokens also lemmas)\n",
    "df['text'].head().apply(process_text)"
   ]
  },
  {
   "cell_type": "code",
   "execution_count": 26,
   "metadata": {
    "id": "BED40n4z5W2V"
   },
   "outputs": [
    {
     "name": "stdout",
     "output_type": "stream",
     "text": [
      "  (0, 3638)\t1\n",
      "  (0, 23369)\t1\n",
      "  (0, 18841)\t1\n",
      "  (0, 10065)\t1\n",
      "  (0, 17696)\t1\n",
      "  (0, 21140)\t1\n",
      "  (0, 27986)\t1\n",
      "  (0, 16674)\t1\n",
      "  (0, 28110)\t1\n",
      "  (0, 9296)\t3\n",
      "  (0, 21654)\t2\n",
      "  (0, 15429)\t1\n",
      "  (0, 32602)\t1\n",
      "  (0, 18238)\t1\n",
      "  (0, 18886)\t1\n",
      "  (0, 16089)\t2\n",
      "  (0, 8054)\t1\n",
      "  (0, 20952)\t3\n",
      "  (0, 32319)\t1\n",
      "  (0, 31968)\t1\n",
      "  (0, 24838)\t1\n",
      "  (0, 36025)\t2\n",
      "  (0, 21431)\t2\n",
      "  (0, 33037)\t1\n",
      "  (0, 23040)\t2\n",
      "  :\t:\n",
      "  (5694, 24818)\t2\n",
      "  (5694, 21624)\t1\n",
      "  (5694, 5729)\t9\n",
      "  (5694, 30934)\t1\n",
      "  (5694, 2828)\t3\n",
      "  (5694, 13338)\t1\n",
      "  (5694, 13127)\t1\n",
      "  (5694, 17388)\t1\n",
      "  (5694, 14130)\t1\n",
      "  (5694, 20273)\t1\n",
      "  (5694, 31827)\t1\n",
      "  (5694, 13128)\t1\n",
      "  (5694, 20467)\t1\n",
      "  (5694, 35288)\t1\n",
      "  (5694, 8629)\t1\n",
      "  (5694, 30082)\t1\n",
      "  (5694, 13522)\t5\n",
      "  (5694, 36185)\t1\n",
      "  (5694, 959)\t2\n",
      "  (5694, 2797)\t1\n",
      "  (5694, 30287)\t1\n",
      "  (5694, 17590)\t1\n",
      "  (5694, 33923)\t1\n",
      "  (5694, 10373)\t1\n",
      "  (5694, 11386)\t1\n"
     ]
    }
   ],
   "source": [
    "#convert collection of text to a matrix of tokens\n",
    "from sklearn.feature_extraction.text import CountVectorizer\n",
    "messages_bow = CountVectorizer(analyzer=process_text).fit_transform(df['text'])\n",
    "print(messages_bow)"
   ]
  },
  {
   "cell_type": "code",
   "execution_count": 12,
   "metadata": {
    "id": "wxy5Vs7v6xtR"
   },
   "outputs": [],
   "source": [
    "#split data %80 training %20 test\n",
    "from sklearn.model_selection import train_test_split\n",
    "X_train, X_test, y_train, y_test = train_test_split(messages_bow, df['spam'],test_size=0.20, random_state=0)"
   ]
  },
  {
   "cell_type": "code",
   "execution_count": 13,
   "metadata": {
    "id": "p5PcQrk87XYM"
   },
   "outputs": [
    {
     "data": {
      "text/plain": [
       "(5695, 37229)"
      ]
     },
     "execution_count": 13,
     "metadata": {},
     "output_type": "execute_result"
    }
   ],
   "source": [
    "#get the shapes of messages_bow\n",
    "messages_bow.shape"
   ]
  },
  {
   "cell_type": "code",
   "execution_count": 14,
   "metadata": {
    "id": "zVokiWh_7uYR"
   },
   "outputs": [],
   "source": [
    "# create and train naive bayes classification\n",
    "from sklearn.naive_bayes import MultinomialNB\n",
    "classifier = MultinomialNB().fit(X_train,y_train)"
   ]
  },
  {
   "cell_type": "code",
   "execution_count": 15,
   "metadata": {
    "id": "N91RgWFa8kbO"
   },
   "outputs": [
    {
     "name": "stdout",
     "output_type": "stream",
     "text": [
      "[0 0 0 ... 0 0 0]\n",
      "3337    0\n",
      "2104    0\n",
      "3905    0\n",
      "461     1\n",
      "314     1\n",
      "       ..\n",
      "4950    0\n",
      "3273    0\n",
      "1653    0\n",
      "2611    0\n",
      "2736    0\n",
      "Name: spam, Length: 4556, dtype: int64\n"
     ]
    }
   ],
   "source": [
    "#print predictions\n",
    "print(classifier.predict(X_train))\n",
    "\n",
    "#print values\n",
    "print(y_train)"
   ]
  },
  {
   "cell_type": "code",
   "execution_count": 16,
   "metadata": {
    "id": "cv0rSwNt-V2l"
   },
   "outputs": [
    {
     "name": "stdout",
     "output_type": "stream",
     "text": [
      "              precision    recall  f1-score   support\n",
      "\n",
      "           0       1.00      1.00      1.00      3457\n",
      "           1       0.99      1.00      0.99      1099\n",
      "\n",
      "    accuracy                           1.00      4556\n",
      "   macro avg       0.99      1.00      1.00      4556\n",
      "weighted avg       1.00      1.00      1.00      4556\n",
      "\n",
      "\n",
      "Confusion Matrix: /n [[3445   12]\n",
      " [   1 1098]]\n",
      "\n",
      "Accuracy:  0.9971466198419666\n"
     ]
    }
   ],
   "source": [
    "#evaluate the model on the Training Dataset\n",
    "from sklearn.metrics import classification_report, confusion_matrix, accuracy_score\n",
    "pred = classifier.predict(X_train)\n",
    "print(classification_report(y_train,pred))\n",
    "print()\n",
    "print('Confusion Matrix: /n', confusion_matrix(y_train,pred))\n",
    "print()\n",
    "print('Accuracy: ', accuracy_score(y_train,pred))"
   ]
  },
  {
   "cell_type": "code",
   "execution_count": 17,
   "metadata": {
    "id": "KngUpJqB_WeS"
   },
   "outputs": [
    {
     "name": "stdout",
     "output_type": "stream",
     "text": [
      "[1 0 0 ... 0 0 0]\n",
      "977     1\n",
      "3275    0\n",
      "4163    0\n",
      "751     1\n",
      "3244    0\n",
      "       ..\n",
      "4506    0\n",
      "1050    1\n",
      "3366    0\n",
      "2191    0\n",
      "3911    0\n",
      "Name: spam, Length: 1139, dtype: int64\n"
     ]
    }
   ],
   "source": [
    "#print predictions\n",
    "print(classifier.predict(X_test))\n",
    "\n",
    "#print values\n",
    "print(y_test)"
   ]
  },
  {
   "cell_type": "code",
   "execution_count": 18,
   "metadata": {
    "id": "pabjo2jW_y0G"
   },
   "outputs": [
    {
     "name": "stdout",
     "output_type": "stream",
     "text": [
      "              precision    recall  f1-score   support\n",
      "\n",
      "           0       1.00      0.99      0.99       870\n",
      "           1       0.97      1.00      0.98       269\n",
      "\n",
      "    accuracy                           0.99      1139\n",
      "   macro avg       0.98      0.99      0.99      1139\n",
      "weighted avg       0.99      0.99      0.99      1139\n",
      "\n",
      "\n",
      "Confusion Matrix: /n [[862   8]\n",
      " [  1 268]]\n",
      "\n",
      "Accuracy:  0.9920983318700615\n"
     ]
    }
   ],
   "source": [
    "from sklearn.metrics import classification_report, confusion_matrix, accuracy_score\n",
    "pred = classifier.predict(X_test)\n",
    "print(classification_report(y_test,pred))\n",
    "print()\n",
    "print('Confusion Matrix: /n', confusion_matrix(y_test,pred))\n",
    "print()\n",
    "print('Accuracy: ', accuracy_score(y_test,pred))"
   ]
  },
  {
   "cell_type": "code",
   "execution_count": 19,
   "metadata": {
    "id": "tfbaND-EeodI"
   },
   "outputs": [
    {
     "name": "stdout",
     "output_type": "stream",
     "text": [
      "Accuracy using Cross Validation is : 99.13959613696225  %\n"
     ]
    }
   ],
   "source": [
    "#get accuracy using Cross Validation\n",
    "from sklearn.model_selection import KFold, cross_val_score\n",
    "kfold = KFold(n_splits=5,shuffle=True)\n",
    "print(\"Accuracy using Cross Validation is :\",np.mean(cross_val_score(MultinomialNB(),messages_bow,df['spam'],cv=kfold,scoring=\"accuracy\"))*100,\" %\")\n"
   ]
  },
  {
   "cell_type": "code",
   "execution_count": 20,
   "metadata": {
    "id": "HrhKzlijeodJ"
   },
   "outputs": [
    {
     "data": {
      "text/plain": [
       "MLPClassifier(activation='relu', alpha=0.0001, batch_size='auto', beta_1=0.9,\n",
       "              beta_2=0.999, early_stopping=False, epsilon=1e-08,\n",
       "              hidden_layer_sizes=(100,), learning_rate='constant',\n",
       "              learning_rate_init=0.001, max_iter=200, momentum=0.9,\n",
       "              n_iter_no_change=10, nesterovs_momentum=True, power_t=0.5,\n",
       "              random_state=None, shuffle=True, solver='adam', tol=0.0001,\n",
       "              validation_fraction=0.1, verbose=False, warm_start=False)"
      ]
     },
     "execution_count": 20,
     "metadata": {},
     "output_type": "execute_result"
    }
   ],
   "source": [
    "#build a neural network model and use the train data to fit the model\n",
    "from sklearn.neural_network import MLPClassifier\n",
    "model = MLPClassifier()\n",
    "model.fit(X_train,y_train)\n"
   ]
  },
  {
   "cell_type": "code",
   "execution_count": 21,
   "metadata": {},
   "outputs": [],
   "source": [
    "#use the model to predict the results of train data\n",
    "pred_train=dict()\n",
    "pred_train = model.predict(X_train)"
   ]
  },
  {
   "cell_type": "code",
   "execution_count": 22,
   "metadata": {},
   "outputs": [
    {
     "name": "stdout",
     "output_type": "stream",
     "text": [
      "              precision    recall  f1-score   support\n",
      "\n",
      "           0       1.00      1.00      1.00      3457\n",
      "           1       1.00      1.00      1.00      1099\n",
      "\n",
      "    accuracy                           1.00      4556\n",
      "   macro avg       1.00      1.00      1.00      4556\n",
      "weighted avg       1.00      1.00      1.00      4556\n",
      "\n",
      "Accuracy:  1.0\n"
     ]
    }
   ],
   "source": [
    "#compare the real value and the results of train data using the model\n",
    "print(classification_report(y_train,pred_train))\n",
    "print('Accuracy: ', accuracy_score(y_train,pred_train))"
   ]
  },
  {
   "cell_type": "code",
   "execution_count": 23,
   "metadata": {
    "id": "J5pNDh-7eodJ"
   },
   "outputs": [],
   "source": [
    "#use the model to predict the results of test data\n",
    "prediction = dict()\n",
    "prediction = dict()\n",
    "prediction[\"NN\"] = model.predict(X_test)\n"
   ]
  },
  {
   "cell_type": "code",
   "execution_count": 24,
   "metadata": {
    "id": "zN1uO4cAeodK"
   },
   "outputs": [
    {
     "name": "stdout",
     "output_type": "stream",
     "text": [
      "              precision    recall  f1-score   support\n",
      "\n",
      "           0       0.99      1.00      0.99       870\n",
      "           1       1.00      0.96      0.98       269\n",
      "\n",
      "    accuracy                           0.99      1139\n",
      "   macro avg       0.99      0.98      0.99      1139\n",
      "weighted avg       0.99      0.99      0.99      1139\n",
      "\n",
      "Confusion Matrix: /n [[869   1]\n",
      " [ 11 258]]\n"
     ]
    }
   ],
   "source": [
    "#compare the real value and the results of test data using the model\n",
    "print(classification_report(y_test,prediction[\"NN\"]))\n",
    "accuracy_score(y_test,prediction[\"NN\"])\n",
    "\n",
    "print('Confusion Matrix: /n', confusion_matrix(y_test,prediction[\"NN\"]))"
   ]
  },
  {
   "cell_type": "code",
   "execution_count": 25,
   "metadata": {},
   "outputs": [
    {
     "name": "stdout",
     "output_type": "stream",
     "text": [
      "Accuracy using Cross Validation is : 98.92888498683057  %\n"
     ]
    }
   ],
   "source": [
    "#get accuracy using Cross Validation\n",
    "from sklearn.model_selection import KFold, cross_val_score\n",
    "kfold = KFold(n_splits=5,shuffle=True)\n",
    "print(\"Accuracy using Cross Validation is :\",np.mean(cross_val_score(model,messages_bow,df['spam'],cv=kfold,scoring=\"accuracy\"))*100,\" %\")\n"
   ]
  }
 ],
 "metadata": {
  "colab": {
   "collapsed_sections": [],
   "name": "Untitled2.ipynb",
   "provenance": []
  },
  "kernelspec": {
   "display_name": "Python 3",
   "language": "python",
   "name": "python3"
  },
  "language_info": {
   "codemirror_mode": {
    "name": "ipython",
    "version": 3
   },
   "file_extension": ".py",
   "mimetype": "text/x-python",
   "name": "python",
   "nbconvert_exporter": "python",
   "pygments_lexer": "ipython3",
   "version": "3.7.4"
  }
 },
 "nbformat": 4,
 "nbformat_minor": 1
}
